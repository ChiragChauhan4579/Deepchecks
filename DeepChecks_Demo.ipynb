{
 "cells": [
  {
   "cell_type": "markdown",
   "metadata": {
    "id": "iyaUa7Uzf-_s"
   },
   "source": [
    "# **Data Integrity - Specific Checks**"
   ]
  },
  {
   "cell_type": "code",
   "execution_count": 2,
   "metadata": {
    "id": "NGr6Z996ges9"
   },
   "outputs": [],
   "source": [
    "# !pip install deepchecks\n",
    "# !pip install prettytable"
   ]
  },
  {
   "cell_type": "code",
   "execution_count": 3,
   "metadata": {
    "id": "PT6o5ml9hpbi"
   },
   "outputs": [],
   "source": [
    "import warnings\n",
    "warnings.filterwarnings('ignore')"
   ]
  },
  {
   "cell_type": "code",
   "execution_count": 4,
   "metadata": {
    "colab": {
     "base_uri": "https://localhost:8080/",
     "height": 299
    },
    "id": "pJO3-xxUf85b",
    "outputId": "911f4fd7-398e-4b1b-9357-ab17287a2423"
   },
   "outputs": [
    {
     "data": {
      "text/html": [
       "<div>\n",
       "<style scoped>\n",
       "    .dataframe tbody tr th:only-of-type {\n",
       "        vertical-align: middle;\n",
       "    }\n",
       "\n",
       "    .dataframe tbody tr th {\n",
       "        vertical-align: top;\n",
       "    }\n",
       "\n",
       "    .dataframe thead th {\n",
       "        text-align: right;\n",
       "    }\n",
       "</style>\n",
       "<table border=\"1\" class=\"dataframe\">\n",
       "  <thead>\n",
       "    <tr style=\"text-align: right;\">\n",
       "      <th></th>\n",
       "      <th>Year_Factor</th>\n",
       "      <th>State_Factor</th>\n",
       "      <th>building_class</th>\n",
       "      <th>facility_type</th>\n",
       "      <th>floor_area</th>\n",
       "      <th>year_built</th>\n",
       "      <th>energy_star_rating</th>\n",
       "      <th>ELEVATION</th>\n",
       "      <th>january_min_temp</th>\n",
       "      <th>january_avg_temp</th>\n",
       "      <th>...</th>\n",
       "      <th>days_above_80F</th>\n",
       "      <th>days_above_90F</th>\n",
       "      <th>days_above_100F</th>\n",
       "      <th>days_above_110F</th>\n",
       "      <th>direction_max_wind_speed</th>\n",
       "      <th>direction_peak_wind_speed</th>\n",
       "      <th>max_wind_speed</th>\n",
       "      <th>days_with_fog</th>\n",
       "      <th>site_eui</th>\n",
       "      <th>id</th>\n",
       "    </tr>\n",
       "  </thead>\n",
       "  <tbody>\n",
       "    <tr>\n",
       "      <th>0</th>\n",
       "      <td>1</td>\n",
       "      <td>State_1</td>\n",
       "      <td>Commercial</td>\n",
       "      <td>Grocery_store_or_food_market</td>\n",
       "      <td>61242.0</td>\n",
       "      <td>1942.0</td>\n",
       "      <td>11.0</td>\n",
       "      <td>2.4</td>\n",
       "      <td>36</td>\n",
       "      <td>50.5</td>\n",
       "      <td>...</td>\n",
       "      <td>14</td>\n",
       "      <td>0</td>\n",
       "      <td>0</td>\n",
       "      <td>0</td>\n",
       "      <td>1.0</td>\n",
       "      <td>1.0</td>\n",
       "      <td>1.0</td>\n",
       "      <td>NaN</td>\n",
       "      <td>248.682615</td>\n",
       "      <td>0</td>\n",
       "    </tr>\n",
       "    <tr>\n",
       "      <th>1</th>\n",
       "      <td>1</td>\n",
       "      <td>State_1</td>\n",
       "      <td>Commercial</td>\n",
       "      <td>Warehouse_Distribution_or_Shipping_center</td>\n",
       "      <td>274000.0</td>\n",
       "      <td>1955.0</td>\n",
       "      <td>45.0</td>\n",
       "      <td>1.8</td>\n",
       "      <td>36</td>\n",
       "      <td>50.5</td>\n",
       "      <td>...</td>\n",
       "      <td>14</td>\n",
       "      <td>0</td>\n",
       "      <td>0</td>\n",
       "      <td>0</td>\n",
       "      <td>1.0</td>\n",
       "      <td>NaN</td>\n",
       "      <td>1.0</td>\n",
       "      <td>12.0</td>\n",
       "      <td>26.500150</td>\n",
       "      <td>1</td>\n",
       "    </tr>\n",
       "    <tr>\n",
       "      <th>2</th>\n",
       "      <td>1</td>\n",
       "      <td>State_1</td>\n",
       "      <td>Commercial</td>\n",
       "      <td>Retail_Enclosed_mall</td>\n",
       "      <td>280025.0</td>\n",
       "      <td>1951.0</td>\n",
       "      <td>97.0</td>\n",
       "      <td>1.8</td>\n",
       "      <td>36</td>\n",
       "      <td>50.5</td>\n",
       "      <td>...</td>\n",
       "      <td>14</td>\n",
       "      <td>0</td>\n",
       "      <td>0</td>\n",
       "      <td>0</td>\n",
       "      <td>1.0</td>\n",
       "      <td>NaN</td>\n",
       "      <td>1.0</td>\n",
       "      <td>12.0</td>\n",
       "      <td>24.693619</td>\n",
       "      <td>2</td>\n",
       "    </tr>\n",
       "    <tr>\n",
       "      <th>3</th>\n",
       "      <td>1</td>\n",
       "      <td>State_1</td>\n",
       "      <td>Commercial</td>\n",
       "      <td>Education_Other_classroom</td>\n",
       "      <td>55325.0</td>\n",
       "      <td>1980.0</td>\n",
       "      <td>46.0</td>\n",
       "      <td>1.8</td>\n",
       "      <td>36</td>\n",
       "      <td>50.5</td>\n",
       "      <td>...</td>\n",
       "      <td>14</td>\n",
       "      <td>0</td>\n",
       "      <td>0</td>\n",
       "      <td>0</td>\n",
       "      <td>1.0</td>\n",
       "      <td>NaN</td>\n",
       "      <td>1.0</td>\n",
       "      <td>12.0</td>\n",
       "      <td>48.406926</td>\n",
       "      <td>3</td>\n",
       "    </tr>\n",
       "    <tr>\n",
       "      <th>4</th>\n",
       "      <td>1</td>\n",
       "      <td>State_1</td>\n",
       "      <td>Commercial</td>\n",
       "      <td>Warehouse_Nonrefrigerated</td>\n",
       "      <td>66000.0</td>\n",
       "      <td>1985.0</td>\n",
       "      <td>100.0</td>\n",
       "      <td>2.4</td>\n",
       "      <td>36</td>\n",
       "      <td>50.5</td>\n",
       "      <td>...</td>\n",
       "      <td>14</td>\n",
       "      <td>0</td>\n",
       "      <td>0</td>\n",
       "      <td>0</td>\n",
       "      <td>1.0</td>\n",
       "      <td>1.0</td>\n",
       "      <td>1.0</td>\n",
       "      <td>NaN</td>\n",
       "      <td>3.899395</td>\n",
       "      <td>4</td>\n",
       "    </tr>\n",
       "  </tbody>\n",
       "</table>\n",
       "<p>5 rows × 64 columns</p>\n",
       "</div>"
      ],
      "text/plain": [
       "   Year_Factor State_Factor building_class  \\\n",
       "0            1      State_1     Commercial   \n",
       "1            1      State_1     Commercial   \n",
       "2            1      State_1     Commercial   \n",
       "3            1      State_1     Commercial   \n",
       "4            1      State_1     Commercial   \n",
       "\n",
       "                               facility_type  floor_area  year_built  \\\n",
       "0               Grocery_store_or_food_market     61242.0      1942.0   \n",
       "1  Warehouse_Distribution_or_Shipping_center    274000.0      1955.0   \n",
       "2                       Retail_Enclosed_mall    280025.0      1951.0   \n",
       "3                  Education_Other_classroom     55325.0      1980.0   \n",
       "4                  Warehouse_Nonrefrigerated     66000.0      1985.0   \n",
       "\n",
       "   energy_star_rating  ELEVATION  january_min_temp  january_avg_temp  ...  \\\n",
       "0                11.0        2.4                36              50.5  ...   \n",
       "1                45.0        1.8                36              50.5  ...   \n",
       "2                97.0        1.8                36              50.5  ...   \n",
       "3                46.0        1.8                36              50.5  ...   \n",
       "4               100.0        2.4                36              50.5  ...   \n",
       "\n",
       "   days_above_80F  days_above_90F  days_above_100F  days_above_110F  \\\n",
       "0              14               0                0                0   \n",
       "1              14               0                0                0   \n",
       "2              14               0                0                0   \n",
       "3              14               0                0                0   \n",
       "4              14               0                0                0   \n",
       "\n",
       "   direction_max_wind_speed  direction_peak_wind_speed  max_wind_speed  \\\n",
       "0                       1.0                        1.0             1.0   \n",
       "1                       1.0                        NaN             1.0   \n",
       "2                       1.0                        NaN             1.0   \n",
       "3                       1.0                        NaN             1.0   \n",
       "4                       1.0                        1.0             1.0   \n",
       "\n",
       "   days_with_fog    site_eui  id  \n",
       "0            NaN  248.682615   0  \n",
       "1           12.0   26.500150   1  \n",
       "2           12.0   24.693619   2  \n",
       "3           12.0   48.406926   3  \n",
       "4            NaN    3.899395   4  \n",
       "\n",
       "[5 rows x 64 columns]"
      ]
     },
     "execution_count": 4,
     "metadata": {},
     "output_type": "execute_result"
    }
   ],
   "source": [
    "import pandas as pd\n",
    "\n",
    "df = pd.read_csv('Site_EUI_data.csv')\n",
    "df.head()"
   ]
  },
  {
   "cell_type": "code",
   "execution_count": 5,
   "metadata": {
    "colab": {
     "base_uri": "https://localhost:8080/"
    },
    "id": "oSpn00Rdh-Y_",
    "outputId": "335dcce5-84d5-4d99-d16f-72f923c03216"
   },
   "outputs": [
    {
     "data": {
      "text/plain": [
       "Year_Factor                    int64\n",
       "State_Factor                  object\n",
       "building_class                object\n",
       "facility_type                 object\n",
       "floor_area                   float64\n",
       "                              ...   \n",
       "direction_peak_wind_speed    float64\n",
       "max_wind_speed               float64\n",
       "days_with_fog                float64\n",
       "site_eui                     float64\n",
       "id                             int64\n",
       "Length: 64, dtype: object"
      ]
     },
     "execution_count": 5,
     "metadata": {},
     "output_type": "execute_result"
    }
   ],
   "source": [
    "df.dtypes"
   ]
  },
  {
   "cell_type": "markdown",
   "metadata": {
    "id": "8QXhsSwgiiNI"
   },
   "source": [
    "**Check for missing values**"
   ]
  },
  {
   "cell_type": "code",
   "execution_count": 6,
   "metadata": {
    "colab": {
     "base_uri": "https://localhost:8080/",
     "height": 1000
    },
    "id": "zVxWvA_kgdj1",
    "outputId": "6bcb69db-3bd1-46a6-a958-b00aa090cd6a"
   },
   "outputs": [
    {
     "name": "stderr",
     "output_type": "stream",
     "text": [
      "deepchecks - WARNING - Received a \"pandas.DataFrame\" instance. It is recommended to pass a \"deepchecks.tabular.Dataset\" instance by initializing it with the data and metadata, for example by doing \"Dataset(dataframe, label=label, cat_features=cat_features)\"\n",
      "deepchecks - WARNING - It is recommended to initialize Dataset with categorical features by doing \"Dataset(df, cat_features=categorical_list)\". No categorical features were passed, therefore heuristically inferring categorical features in the data. 9 categorical features were inferred.: Year_Factor, State_Factor, building_class, facility_type, days_below_10F, days_below_0F, days_above_110F... For full list use dataset.cat_features\n"
     ]
    },
    {
     "data": {
      "application/vnd.jupyter.widget-view+json": {
       "model_id": "daa20536b1ba48a6a5df7c90878a7961",
       "version_major": 2,
       "version_minor": 0
      },
      "text/plain": [
       "VBox(children=(HTML(value='<h4><b>Mixed Nulls</b></h4>'), HTML(value='<p>Search for various types of null valu…"
      ]
     },
     "metadata": {},
     "output_type": "display_data"
    }
   ],
   "source": [
    "from deepchecks.tabular.checks import MixedNulls\n",
    "\n",
    "MixedNulls().run(df)"
   ]
  },
  {
   "cell_type": "markdown",
   "metadata": {
    "id": "YMbVh-kXikTB"
   },
   "source": [
    "**Check for percentage of Nulls**"
   ]
  },
  {
   "cell_type": "code",
   "execution_count": 7,
   "metadata": {
    "colab": {
     "base_uri": "https://localhost:8080/",
     "height": 1000,
     "resources": {
      "http://localhost:8080/jupyterlab-plotly.js": {
       "data": "CjwhRE9DVFlQRSBodG1sPgo8aHRtbCBsYW5nPWVuPgogIDxtZXRhIGNoYXJzZXQ9dXRmLTg+CiAgPG1ldGEgbmFtZT12aWV3cG9ydCBjb250ZW50PSJpbml0aWFsLXNjYWxlPTEsIG1pbmltdW0tc2NhbGU9MSwgd2lkdGg9ZGV2aWNlLXdpZHRoIj4KICA8dGl0bGU+RXJyb3IgNDA0IChOb3QgRm91bmQpISExPC90aXRsZT4KICA8c3R5bGU+CiAgICAqe21hcmdpbjowO3BhZGRpbmc6MH1odG1sLGNvZGV7Zm9udDoxNXB4LzIycHggYXJpYWwsc2Fucy1zZXJpZn1odG1se2JhY2tncm91bmQ6I2ZmZjtjb2xvcjojMjIyO3BhZGRpbmc6MTVweH1ib2R5e21hcmdpbjo3JSBhdXRvIDA7bWF4LXdpZHRoOjM5MHB4O21pbi1oZWlnaHQ6MTgwcHg7cGFkZGluZzozMHB4IDAgMTVweH0qID4gYm9keXtiYWNrZ3JvdW5kOnVybCgvL3d3dy5nb29nbGUuY29tL2ltYWdlcy9lcnJvcnMvcm9ib3QucG5nKSAxMDAlIDVweCBuby1yZXBlYXQ7cGFkZGluZy1yaWdodDoyMDVweH1we21hcmdpbjoxMXB4IDAgMjJweDtvdmVyZmxvdzpoaWRkZW59aW5ze2NvbG9yOiM3Nzc7dGV4dC1kZWNvcmF0aW9uOm5vbmV9YSBpbWd7Ym9yZGVyOjB9QG1lZGlhIHNjcmVlbiBhbmQgKG1heC13aWR0aDo3NzJweCl7Ym9keXtiYWNrZ3JvdW5kOm5vbmU7bWFyZ2luLXRvcDowO21heC13aWR0aDpub25lO3BhZGRpbmctcmlnaHQ6MH19I2xvZ297YmFja2dyb3VuZDp1cmwoLy93d3cuZ29vZ2xlLmNvbS9pbWFnZXMvbG9nb3MvZXJyb3JwYWdlL2Vycm9yX2xvZ28tMTUweDU0LnBuZykgbm8tcmVwZWF0O21hcmdpbi1sZWZ0Oi01cHh9QG1lZGlhIG9ubHkgc2NyZWVuIGFuZCAobWluLXJlc29sdXRpb246MTkyZHBpKXsjbG9nb3tiYWNrZ3JvdW5kOnVybCgvL3d3dy5nb29nbGUuY29tL2ltYWdlcy9sb2dvcy9lcnJvcnBhZ2UvZXJyb3JfbG9nby0xNTB4NTQtMngucG5nKSBuby1yZXBlYXQgMCUgMCUvMTAwJSAxMDAlOy1tb3otYm9yZGVyLWltYWdlOnVybCgvL3d3dy5nb29nbGUuY29tL2ltYWdlcy9sb2dvcy9lcnJvcnBhZ2UvZXJyb3JfbG9nby0xNTB4NTQtMngucG5nKSAwfX1AbWVkaWEgb25seSBzY3JlZW4gYW5kICgtd2Via2l0LW1pbi1kZXZpY2UtcGl4ZWwtcmF0aW86Mil7I2xvZ297YmFja2dyb3VuZDp1cmwoLy93d3cuZ29vZ2xlLmNvbS9pbWFnZXMvbG9nb3MvZXJyb3JwYWdlL2Vycm9yX2xvZ28tMTUweDU0LTJ4LnBuZykgbm8tcmVwZWF0Oy13ZWJraXQtYmFja2dyb3VuZC1zaXplOjEwMCUgMTAwJX19I2xvZ297ZGlzcGxheTppbmxpbmUtYmxvY2s7aGVpZ2h0OjU0cHg7d2lkdGg6MTUwcHh9CiAgPC9zdHlsZT4KICA8YSBocmVmPS8vd3d3Lmdvb2dsZS5jb20vPjxzcGFuIGlkPWxvZ28gYXJpYS1sYWJlbD1Hb29nbGU+PC9zcGFuPjwvYT4KICA8cD48Yj40MDQuPC9iPiA8aW5zPlRoYXTigJlzIGFuIGVycm9yLjwvaW5zPgogIDxwPiAgPGlucz5UaGF04oCZcyBhbGwgd2Uga25vdy48L2lucz4K",
       "headers": [
        [
         "content-length",
         "1449"
        ],
        [
         "content-type",
         "text/html; charset=utf-8"
        ]
       ],
       "ok": false,
       "status": 404,
       "status_text": ""
      }
     }
    },
    "id": "OS-RclhPiYjn",
    "outputId": "2f870ef5-878c-4eab-e99c-55429748117d"
   },
   "outputs": [
    {
     "name": "stderr",
     "output_type": "stream",
     "text": [
      "deepchecks - WARNING - Received a \"pandas.DataFrame\" instance. It is recommended to pass a \"deepchecks.tabular.Dataset\" instance by initializing it with the data and metadata, for example by doing \"Dataset(dataframe, label=label, cat_features=cat_features)\"\n",
      "deepchecks - WARNING - It is recommended to initialize Dataset with categorical features by doing \"Dataset(df, cat_features=categorical_list)\". No categorical features were passed, therefore heuristically inferring categorical features in the data. 9 categorical features were inferred.: Year_Factor, State_Factor, building_class, facility_type, days_below_10F, days_below_0F, days_above_110F... For full list use dataset.cat_features\n"
     ]
    },
    {
     "data": {
      "application/vnd.jupyter.widget-view+json": {
       "model_id": "684a3516984741c192ae097c264113b0",
       "version_major": 2,
       "version_minor": 0
      },
      "text/plain": [
       "VBox(children=(HTML(value='<h4><b>PercentOfNulls</b></h4>'), HTML(value='<p>Percent of \\'Null\\' values in each…"
      ]
     },
     "metadata": {},
     "output_type": "display_data"
    }
   ],
   "source": [
    "from deepchecks.tabular.checks.data_integrity import PercentOfNulls\n",
    "\n",
    "result = PercentOfNulls().run(df)\n",
    "result.show()"
   ]
  },
  {
   "cell_type": "code",
   "execution_count": 8,
   "metadata": {
    "colab": {
     "base_uri": "https://localhost:8080/"
    },
    "id": "_0J5QOE-jUeB",
    "outputId": "3d3aa15b-b81b-4e0e-d3ba-3a24c64109f6"
   },
   "outputs": [
    {
     "name": "stdout",
     "output_type": "stream",
     "text": [
      "+---------------------------+----------------------+\n",
      "| Column                    | Missing Values Count |\n",
      "+---------------------------+----------------------+\n",
      "| days_with_fog             |                45796 |\n",
      "| direction_peak_wind_speed |                41811 |\n",
      "| max_wind_speed            |                41082 |\n",
      "| direction_max_wind_speed  |                41082 |\n",
      "| energy_star_rating        |                26709 |\n",
      "| year_built                |                 1837 |\n",
      "| Year_Factor               |                    0 |\n",
      "| november_max_temp         |                    0 |\n",
      "| cooling_degree_days       |                    0 |\n",
      "| december_max_temp         |                    0 |\n",
      "| december_avg_temp         |                    0 |\n",
      "| december_min_temp         |                    0 |\n",
      "| october_avg_temp          |                    0 |\n",
      "| november_avg_temp         |                    0 |\n",
      "| november_min_temp         |                    0 |\n",
      "| october_max_temp          |                    0 |\n",
      "| precipitation_inches      |                    0 |\n",
      "| october_min_temp          |                    0 |\n",
      "| heating_degree_days       |                    0 |\n",
      "| days_below_30F            |                    0 |\n",
      "+---------------------------+----------------------+\n"
     ]
    }
   ],
   "source": [
    "from prettytable import PrettyTable\n",
    "\n",
    "missing_values_count = df.isna().sum()\n",
    "missing_values_count_sorted = missing_values_count.sort_values(ascending=False).head(20)\n",
    "\n",
    "table = PrettyTable()\n",
    "table.field_names = [\"Column\", \"Missing Values Count\"]\n",
    "\n",
    "for column, count in missing_values_count_sorted.items():\n",
    "    table.add_row([column, count])\n",
    "\n",
    "table.align[\"Column\"] = \"l\"\n",
    "table.align[\"Missing Values Count\"] = \"r\"\n",
    "\n",
    "print(table)"
   ]
  },
  {
   "cell_type": "markdown",
   "metadata": {
    "id": "JwseQc8aj7rA"
   },
   "source": [
    "String Mismatch"
   ]
  },
  {
   "cell_type": "code",
   "execution_count": 9,
   "metadata": {
    "colab": {
     "base_uri": "https://localhost:8080/",
     "height": 1000
    },
    "id": "9Jl1dHHjj9V5",
    "outputId": "86b3302f-237b-424d-8776-09704ce12fb4"
   },
   "outputs": [
    {
     "name": "stderr",
     "output_type": "stream",
     "text": [
      "deepchecks - WARNING - Received a \"pandas.DataFrame\" instance. It is recommended to pass a \"deepchecks.tabular.Dataset\" instance by initializing it with the data and metadata, for example by doing \"Dataset(dataframe, label=label, cat_features=cat_features)\"\n",
      "deepchecks - WARNING - It is recommended to initialize Dataset with categorical features by doing \"Dataset(df, cat_features=categorical_list)\". No categorical features were passed, therefore heuristically inferring categorical features in the data. 9 categorical features were inferred.: Year_Factor, State_Factor, building_class, facility_type, days_below_10F, days_below_0F, days_above_110F... For full list use dataset.cat_features\n"
     ]
    },
    {
     "data": {
      "application/vnd.jupyter.widget-view+json": {
       "model_id": "9d296835d2a443c39c2eb23a2f01c57b",
       "version_major": 2,
       "version_minor": 0
      },
      "text/plain": [
       "VBox(children=(HTML(value='<h4><b>String Mismatch</b></h4>'), HTML(value='<p>Detect different variants of stri…"
      ]
     },
     "metadata": {},
     "output_type": "display_data"
    }
   ],
   "source": [
    "from deepchecks.tabular.checks import StringMismatch\n",
    "result = StringMismatch().run(df)\n",
    "result.show()"
   ]
  },
  {
   "cell_type": "markdown",
   "metadata": {
    "id": "kWzhjH-2f_F-"
   },
   "source": [
    "## **Data Integrity Suite**"
   ]
  },
  {
   "cell_type": "code",
   "execution_count": 10,
   "metadata": {
    "colab": {
     "base_uri": "https://localhost:8080/",
     "height": 1000,
     "resources": {
      "http://localhost:8080/jupyterlab-plotly.js": {
       "data": "CjwhRE9DVFlQRSBodG1sPgo8aHRtbCBsYW5nPWVuPgogIDxtZXRhIGNoYXJzZXQ9dXRmLTg+CiAgPG1ldGEgbmFtZT12aWV3cG9ydCBjb250ZW50PSJpbml0aWFsLXNjYWxlPTEsIG1pbmltdW0tc2NhbGU9MSwgd2lkdGg9ZGV2aWNlLXdpZHRoIj4KICA8dGl0bGU+RXJyb3IgNDA0IChOb3QgRm91bmQpISExPC90aXRsZT4KICA8c3R5bGU+CiAgICAqe21hcmdpbjowO3BhZGRpbmc6MH1odG1sLGNvZGV7Zm9udDoxNXB4LzIycHggYXJpYWwsc2Fucy1zZXJpZn1odG1se2JhY2tncm91bmQ6I2ZmZjtjb2xvcjojMjIyO3BhZGRpbmc6MTVweH1ib2R5e21hcmdpbjo3JSBhdXRvIDA7bWF4LXdpZHRoOjM5MHB4O21pbi1oZWlnaHQ6MTgwcHg7cGFkZGluZzozMHB4IDAgMTVweH0qID4gYm9keXtiYWNrZ3JvdW5kOnVybCgvL3d3dy5nb29nbGUuY29tL2ltYWdlcy9lcnJvcnMvcm9ib3QucG5nKSAxMDAlIDVweCBuby1yZXBlYXQ7cGFkZGluZy1yaWdodDoyMDVweH1we21hcmdpbjoxMXB4IDAgMjJweDtvdmVyZmxvdzpoaWRkZW59aW5ze2NvbG9yOiM3Nzc7dGV4dC1kZWNvcmF0aW9uOm5vbmV9YSBpbWd7Ym9yZGVyOjB9QG1lZGlhIHNjcmVlbiBhbmQgKG1heC13aWR0aDo3NzJweCl7Ym9keXtiYWNrZ3JvdW5kOm5vbmU7bWFyZ2luLXRvcDowO21heC13aWR0aDpub25lO3BhZGRpbmctcmlnaHQ6MH19I2xvZ297YmFja2dyb3VuZDp1cmwoLy93d3cuZ29vZ2xlLmNvbS9pbWFnZXMvbG9nb3MvZXJyb3JwYWdlL2Vycm9yX2xvZ28tMTUweDU0LnBuZykgbm8tcmVwZWF0O21hcmdpbi1sZWZ0Oi01cHh9QG1lZGlhIG9ubHkgc2NyZWVuIGFuZCAobWluLXJlc29sdXRpb246MTkyZHBpKXsjbG9nb3tiYWNrZ3JvdW5kOnVybCgvL3d3dy5nb29nbGUuY29tL2ltYWdlcy9sb2dvcy9lcnJvcnBhZ2UvZXJyb3JfbG9nby0xNTB4NTQtMngucG5nKSBuby1yZXBlYXQgMCUgMCUvMTAwJSAxMDAlOy1tb3otYm9yZGVyLWltYWdlOnVybCgvL3d3dy5nb29nbGUuY29tL2ltYWdlcy9sb2dvcy9lcnJvcnBhZ2UvZXJyb3JfbG9nby0xNTB4NTQtMngucG5nKSAwfX1AbWVkaWEgb25seSBzY3JlZW4gYW5kICgtd2Via2l0LW1pbi1kZXZpY2UtcGl4ZWwtcmF0aW86Mil7I2xvZ297YmFja2dyb3VuZDp1cmwoLy93d3cuZ29vZ2xlLmNvbS9pbWFnZXMvbG9nb3MvZXJyb3JwYWdlL2Vycm9yX2xvZ28tMTUweDU0LTJ4LnBuZykgbm8tcmVwZWF0Oy13ZWJraXQtYmFja2dyb3VuZC1zaXplOjEwMCUgMTAwJX19I2xvZ297ZGlzcGxheTppbmxpbmUtYmxvY2s7aGVpZ2h0OjU0cHg7d2lkdGg6MTUwcHh9CiAgPC9zdHlsZT4KICA8YSBocmVmPS8vd3d3Lmdvb2dsZS5jb20vPjxzcGFuIGlkPWxvZ28gYXJpYS1sYWJlbD1Hb29nbGU+PC9zcGFuPjwvYT4KICA8cD48Yj40MDQuPC9iPiA8aW5zPlRoYXTigJlzIGFuIGVycm9yLjwvaW5zPgogIDxwPiAgPGlucz5UaGF04oCZcyBhbGwgd2Uga25vdy48L2lucz4K",
       "headers": [
        [
         "content-length",
         "1449"
        ],
        [
         "content-type",
         "text/html; charset=utf-8"
        ]
       ],
       "ok": false,
       "status": 404,
       "status_text": ""
      }
     }
    },
    "id": "JaBDuhuvnrQD",
    "outputId": "2a5df2a9-3fbf-41a8-cbac-fa2a233d0d43"
   },
   "outputs": [
    {
     "name": "stderr",
     "output_type": "stream",
     "text": [
      "deepchecks - WARNING - Received a \"pandas.DataFrame\" instance. It is recommended to pass a \"deepchecks.tabular.Dataset\" instance by initializing it with the data and metadata, for example by doing \"Dataset(dataframe, label=label, cat_features=cat_features)\"\n",
      "deepchecks - WARNING - It is recommended to initialize Dataset with categorical features by doing \"Dataset(df, cat_features=categorical_list)\". No categorical features were passed, therefore heuristically inferring categorical features in the data. 9 categorical features were inferred.: Year_Factor, State_Factor, building_class, facility_type, days_below_10F, days_below_0F, days_above_110F... For full list use dataset.cat_features\n"
     ]
    },
    {
     "data": {
      "text/html": [
       "\n",
       "    <style>\n",
       "        progress {\n",
       "            -webkit-appearance: none;\n",
       "            border: none;\n",
       "            border-radius: 3px;\n",
       "            width: 300px;\n",
       "            height: 20px;\n",
       "            vertical-align: middle;\n",
       "            margin-right: 10px;\n",
       "            background-color: aliceblue;\n",
       "        }\n",
       "        progress::-webkit-progress-bar {\n",
       "            border-radius: 3px;\n",
       "            background-color: aliceblue;\n",
       "        }\n",
       "        progress::-webkit-progress-value {\n",
       "            background-color: #9d60fb;\n",
       "        }\n",
       "        progress::-moz-progress-bar {\n",
       "            background-color: #9d60fb;\n",
       "        }\n",
       "    </style>\n",
       "    "
      ]
     },
     "metadata": {},
     "output_type": "display_data"
    },
    {
     "data": {
      "text/html": []
     },
     "metadata": {},
     "output_type": "display_data"
    },
    {
     "data": {
      "application/vnd.jupyter.widget-view+json": {
       "model_id": "dfe5a1c55b5741c69aed2c7fd7b9be5c",
       "version_major": 2,
       "version_minor": 0
      },
      "text/plain": [
       "Accordion(children=(VBox(children=(HTML(value='\\n<h1 id=\"summary_K5YU58WIMYJTXLA4GTBVNOVZ5\">Data Integrity Sui…"
      ]
     },
     "metadata": {},
     "output_type": "display_data"
    }
   ],
   "source": [
    "from deepchecks.tabular.suites import data_integrity\n",
    "\n",
    "integ_suite = data_integrity()\n",
    "suite_result = integ_suite.run(df)\n",
    "suite_result.show()"
   ]
  },
  {
   "cell_type": "markdown",
   "metadata": {
    "id": "NV_IboQhsqvn"
   },
   "source": [
    "## **Train Test Validation - Specific Checks**"
   ]
  },
  {
   "cell_type": "markdown",
   "metadata": {
    "id": "jpQdQR4RthqP"
   },
   "source": [
    "**Train Test Sample Mix**"
   ]
  },
  {
   "cell_type": "code",
   "execution_count": 11,
   "metadata": {
    "colab": {
     "base_uri": "https://localhost:8080/",
     "height": 545
    },
    "id": "jJNwWbHysuDT",
    "outputId": "a8673cc4-16f9-4e14-e818-ff1bf46e5583"
   },
   "outputs": [
    {
     "data": {
      "application/vnd.jupyter.widget-view+json": {
       "model_id": "0e4d943a0b034ec5941a07c5439664d4",
       "version_major": 2,
       "version_minor": 0
      },
      "text/plain": [
       "VBox(children=(HTML(value='<h4><b>Train Test Samples Mix</b></h4>'), HTML(value='<p>Detect samples in the test…"
      ]
     },
     "metadata": {},
     "output_type": "display_data"
    }
   ],
   "source": [
    "from deepchecks.tabular import Dataset\n",
    "from deepchecks.tabular.checks import TrainTestSamplesMix\n",
    "from deepchecks.tabular.datasets.classification import iris\n",
    "\n",
    "# Create data with leakage from train to test\n",
    "train, test = iris.load_data()\n",
    "bad_test_df = test.data._append(train.data.iloc[[0, 1, 1, 2, 3, 4, 2, 2, 10]], ignore_index=True)\n",
    "bad_test = test.copy(bad_test_df)\n",
    "\n",
    "check = TrainTestSamplesMix()\n",
    "result = check.run(test_dataset=bad_test, train_dataset=train)\n",
    "result"
   ]
  },
  {
   "cell_type": "markdown",
   "metadata": {
    "id": "5xjN3VOPtofT"
   },
   "source": [
    "# **Train Test Validation - Suite**"
   ]
  },
  {
   "cell_type": "code",
   "execution_count": 12,
   "metadata": {
    "colab": {
     "base_uri": "https://localhost:8080/"
    },
    "id": "I_OIORiStlln",
    "outputId": "0d9e2c7f-41e1-48cf-8893-11849ec02bbe"
   },
   "outputs": [
    {
     "data": {
      "text/plain": [
       "((53029, 63), (22728, 63))"
      ]
     },
     "execution_count": 12,
     "metadata": {},
     "output_type": "execute_result"
    }
   ],
   "source": [
    "from sklearn.model_selection import train_test_split\n",
    "\n",
    "df_split = df.copy()\n",
    "train = df_split.drop(columns='site_eui', axis = 1)\n",
    "labels = df_split[\"site_eui\"]\n",
    "\n",
    "X_train, X_test, y_train, y_test = train_test_split(train,labels, test_size = 0.3, random_state = 42)\n",
    "X_train.shape, X_test.shape"
   ]
  },
  {
   "cell_type": "code",
   "execution_count": 13,
   "metadata": {
    "colab": {
     "base_uri": "https://localhost:8080/"
    },
    "id": "6l9H-xX9wT0n",
    "outputId": "c9421155-b0e5-43b0-c190-2eccdeae820b"
   },
   "outputs": [
    {
     "name": "stdout",
     "output_type": "stream",
     "text": [
      "['State_Factor', 'building_class', 'facility_type']\n"
     ]
    }
   ],
   "source": [
    "columns = train.columns\n",
    "categorical_columns = []\n",
    "for column in columns:\n",
    "    if df[column].dtype == 'object':\n",
    "        categorical_columns.append(column)\n",
    "\n",
    "print(categorical_columns)"
   ]
  },
  {
   "cell_type": "code",
   "execution_count": 15,
   "metadata": {
    "id": "xoBEUdNsvNcE"
   },
   "outputs": [],
   "source": [
    "from deepchecks.tabular import Dataset\n",
    "\n",
    "train_ds = Dataset(X_train, label=y_train,cat_features=categorical_columns)\n",
    "test_ds = Dataset(X_test, label=y_test,cat_features=categorical_columns)"
   ]
  },
  {
   "cell_type": "code",
   "execution_count": 16,
   "metadata": {
    "colab": {
     "base_uri": "https://localhost:8080/",
     "height": 1000
    },
    "id": "YPEptJzzxzaW",
    "outputId": "03105a27-cabb-4bcf-f55b-443f2559e1eb"
   },
   "outputs": [
    {
     "data": {
      "text/html": [
       "\n",
       "    <style>\n",
       "        progress {\n",
       "            -webkit-appearance: none;\n",
       "            border: none;\n",
       "            border-radius: 3px;\n",
       "            width: 300px;\n",
       "            height: 20px;\n",
       "            vertical-align: middle;\n",
       "            margin-right: 10px;\n",
       "            background-color: aliceblue;\n",
       "        }\n",
       "        progress::-webkit-progress-bar {\n",
       "            border-radius: 3px;\n",
       "            background-color: aliceblue;\n",
       "        }\n",
       "        progress::-webkit-progress-value {\n",
       "            background-color: #9d60fb;\n",
       "        }\n",
       "        progress::-moz-progress-bar {\n",
       "            background-color: #9d60fb;\n",
       "        }\n",
       "    </style>\n",
       "    "
      ]
     },
     "metadata": {},
     "output_type": "display_data"
    },
    {
     "data": {
      "text/html": []
     },
     "metadata": {},
     "output_type": "display_data"
    },
    {
     "data": {
      "application/vnd.jupyter.widget-view+json": {
       "model_id": "40b1d62b36754256b28f86ddafda556c",
       "version_major": 2,
       "version_minor": 0
      },
      "text/plain": [
       "Accordion(children=(VBox(children=(HTML(value='\\n<h1 id=\"summary_B6F1RUL25E2QPR0VL62U0PZPC\">Train Test Validat…"
      ]
     },
     "metadata": {},
     "output_type": "display_data"
    }
   ],
   "source": [
    "from deepchecks.tabular.suites import train_test_validation\n",
    "\n",
    "validation_suite = train_test_validation()\n",
    "suite_result = validation_suite.run(train_ds, test_ds)\n",
    "\n",
    "suite_result"
   ]
  },
  {
   "cell_type": "markdown",
   "metadata": {
    "id": "gM-TnTh_3fAv"
   },
   "source": [
    "## **Model Evaluation - Specific Checks**"
   ]
  },
  {
   "cell_type": "markdown",
   "metadata": {
    "id": "N8hFl_nB5mJl"
   },
   "source": [
    "to train a model I am making encodings of each categorical variable to make it train"
   ]
  },
  {
   "cell_type": "code",
   "execution_count": 17,
   "metadata": {
    "colab": {
     "base_uri": "https://localhost:8080/",
     "height": 299
    },
    "id": "-JjTgBLa6OW3",
    "outputId": "31a36903-28ef-48e5-dbea-bffbc311019d"
   },
   "outputs": [
    {
     "data": {
      "text/html": [
       "<div>\n",
       "<style scoped>\n",
       "    .dataframe tbody tr th:only-of-type {\n",
       "        vertical-align: middle;\n",
       "    }\n",
       "\n",
       "    .dataframe tbody tr th {\n",
       "        vertical-align: top;\n",
       "    }\n",
       "\n",
       "    .dataframe thead th {\n",
       "        text-align: right;\n",
       "    }\n",
       "</style>\n",
       "<table border=\"1\" class=\"dataframe\">\n",
       "  <thead>\n",
       "    <tr style=\"text-align: right;\">\n",
       "      <th></th>\n",
       "      <th>Year_Factor</th>\n",
       "      <th>floor_area</th>\n",
       "      <th>year_built</th>\n",
       "      <th>energy_star_rating</th>\n",
       "      <th>ELEVATION</th>\n",
       "      <th>january_min_temp</th>\n",
       "      <th>january_avg_temp</th>\n",
       "      <th>january_max_temp</th>\n",
       "      <th>february_min_temp</th>\n",
       "      <th>february_avg_temp</th>\n",
       "      <th>...</th>\n",
       "      <th>days_above_80F</th>\n",
       "      <th>days_above_90F</th>\n",
       "      <th>days_above_100F</th>\n",
       "      <th>days_above_110F</th>\n",
       "      <th>direction_max_wind_speed</th>\n",
       "      <th>direction_peak_wind_speed</th>\n",
       "      <th>max_wind_speed</th>\n",
       "      <th>days_with_fog</th>\n",
       "      <th>site_eui</th>\n",
       "      <th>id</th>\n",
       "    </tr>\n",
       "  </thead>\n",
       "  <tbody>\n",
       "    <tr>\n",
       "      <th>0</th>\n",
       "      <td>1</td>\n",
       "      <td>61242.0</td>\n",
       "      <td>1942.0</td>\n",
       "      <td>11.0</td>\n",
       "      <td>2.4</td>\n",
       "      <td>36</td>\n",
       "      <td>50.5</td>\n",
       "      <td>68</td>\n",
       "      <td>35</td>\n",
       "      <td>50.589286</td>\n",
       "      <td>...</td>\n",
       "      <td>14</td>\n",
       "      <td>0</td>\n",
       "      <td>0</td>\n",
       "      <td>0</td>\n",
       "      <td>1.0</td>\n",
       "      <td>1.0</td>\n",
       "      <td>1.0</td>\n",
       "      <td>NaN</td>\n",
       "      <td>248.682615</td>\n",
       "      <td>0</td>\n",
       "    </tr>\n",
       "    <tr>\n",
       "      <th>1</th>\n",
       "      <td>1</td>\n",
       "      <td>274000.0</td>\n",
       "      <td>1955.0</td>\n",
       "      <td>45.0</td>\n",
       "      <td>1.8</td>\n",
       "      <td>36</td>\n",
       "      <td>50.5</td>\n",
       "      <td>68</td>\n",
       "      <td>35</td>\n",
       "      <td>50.589286</td>\n",
       "      <td>...</td>\n",
       "      <td>14</td>\n",
       "      <td>0</td>\n",
       "      <td>0</td>\n",
       "      <td>0</td>\n",
       "      <td>1.0</td>\n",
       "      <td>NaN</td>\n",
       "      <td>1.0</td>\n",
       "      <td>12.0</td>\n",
       "      <td>26.500150</td>\n",
       "      <td>1</td>\n",
       "    </tr>\n",
       "    <tr>\n",
       "      <th>2</th>\n",
       "      <td>1</td>\n",
       "      <td>280025.0</td>\n",
       "      <td>1951.0</td>\n",
       "      <td>97.0</td>\n",
       "      <td>1.8</td>\n",
       "      <td>36</td>\n",
       "      <td>50.5</td>\n",
       "      <td>68</td>\n",
       "      <td>35</td>\n",
       "      <td>50.589286</td>\n",
       "      <td>...</td>\n",
       "      <td>14</td>\n",
       "      <td>0</td>\n",
       "      <td>0</td>\n",
       "      <td>0</td>\n",
       "      <td>1.0</td>\n",
       "      <td>NaN</td>\n",
       "      <td>1.0</td>\n",
       "      <td>12.0</td>\n",
       "      <td>24.693619</td>\n",
       "      <td>2</td>\n",
       "    </tr>\n",
       "    <tr>\n",
       "      <th>3</th>\n",
       "      <td>1</td>\n",
       "      <td>55325.0</td>\n",
       "      <td>1980.0</td>\n",
       "      <td>46.0</td>\n",
       "      <td>1.8</td>\n",
       "      <td>36</td>\n",
       "      <td>50.5</td>\n",
       "      <td>68</td>\n",
       "      <td>35</td>\n",
       "      <td>50.589286</td>\n",
       "      <td>...</td>\n",
       "      <td>14</td>\n",
       "      <td>0</td>\n",
       "      <td>0</td>\n",
       "      <td>0</td>\n",
       "      <td>1.0</td>\n",
       "      <td>NaN</td>\n",
       "      <td>1.0</td>\n",
       "      <td>12.0</td>\n",
       "      <td>48.406926</td>\n",
       "      <td>3</td>\n",
       "    </tr>\n",
       "    <tr>\n",
       "      <th>4</th>\n",
       "      <td>1</td>\n",
       "      <td>66000.0</td>\n",
       "      <td>1985.0</td>\n",
       "      <td>100.0</td>\n",
       "      <td>2.4</td>\n",
       "      <td>36</td>\n",
       "      <td>50.5</td>\n",
       "      <td>68</td>\n",
       "      <td>35</td>\n",
       "      <td>50.589286</td>\n",
       "      <td>...</td>\n",
       "      <td>14</td>\n",
       "      <td>0</td>\n",
       "      <td>0</td>\n",
       "      <td>0</td>\n",
       "      <td>1.0</td>\n",
       "      <td>1.0</td>\n",
       "      <td>1.0</td>\n",
       "      <td>NaN</td>\n",
       "      <td>3.899395</td>\n",
       "      <td>4</td>\n",
       "    </tr>\n",
       "  </tbody>\n",
       "</table>\n",
       "<p>5 rows × 61 columns</p>\n",
       "</div>"
      ],
      "text/plain": [
       "   Year_Factor  floor_area  year_built  energy_star_rating  ELEVATION  \\\n",
       "0            1     61242.0      1942.0                11.0        2.4   \n",
       "1            1    274000.0      1955.0                45.0        1.8   \n",
       "2            1    280025.0      1951.0                97.0        1.8   \n",
       "3            1     55325.0      1980.0                46.0        1.8   \n",
       "4            1     66000.0      1985.0               100.0        2.4   \n",
       "\n",
       "   january_min_temp  january_avg_temp  january_max_temp  february_min_temp  \\\n",
       "0                36              50.5                68                 35   \n",
       "1                36              50.5                68                 35   \n",
       "2                36              50.5                68                 35   \n",
       "3                36              50.5                68                 35   \n",
       "4                36              50.5                68                 35   \n",
       "\n",
       "   february_avg_temp  ...  days_above_80F  days_above_90F  days_above_100F  \\\n",
       "0          50.589286  ...              14               0                0   \n",
       "1          50.589286  ...              14               0                0   \n",
       "2          50.589286  ...              14               0                0   \n",
       "3          50.589286  ...              14               0                0   \n",
       "4          50.589286  ...              14               0                0   \n",
       "\n",
       "   days_above_110F  direction_max_wind_speed  direction_peak_wind_speed  \\\n",
       "0                0                       1.0                        1.0   \n",
       "1                0                       1.0                        NaN   \n",
       "2                0                       1.0                        NaN   \n",
       "3                0                       1.0                        NaN   \n",
       "4                0                       1.0                        1.0   \n",
       "\n",
       "   max_wind_speed  days_with_fog    site_eui  id  \n",
       "0             1.0            NaN  248.682615   0  \n",
       "1             1.0           12.0   26.500150   1  \n",
       "2             1.0           12.0   24.693619   2  \n",
       "3             1.0           12.0   48.406926   3  \n",
       "4             1.0            NaN    3.899395   4  \n",
       "\n",
       "[5 rows x 61 columns]"
      ]
     },
     "execution_count": 17,
     "metadata": {},
     "output_type": "execute_result"
    }
   ],
   "source": [
    "from sklearn.preprocessing import LabelEncoder\n",
    "\n",
    "label_encoder = LabelEncoder()\n",
    "\n",
    "df = pd.read_csv(\"Site_EUI_data.csv\")\n",
    "df_copy = df.copy(deep = True)\n",
    "categorical_columns = list(df_copy.select_dtypes(include=['object', 'category']).columns)\n",
    "\n",
    "df_copy.drop(categorical_columns, axis = 1, inplace = True)\n",
    "df_copy.head()"
   ]
  },
  {
   "cell_type": "code",
   "execution_count": 20,
   "metadata": {
    "colab": {
     "base_uri": "https://localhost:8080/"
    },
    "id": "16gSeGkv6-fj",
    "outputId": "3902be5a-5032-4f53-ce01-a1c4e218ca3a"
   },
   "outputs": [
    {
     "data": {
      "text/plain": [
       "(75757, 61)"
      ]
     },
     "execution_count": 20,
     "metadata": {},
     "output_type": "execute_result"
    }
   ],
   "source": [
    "#filling missing values\n",
    "\n",
    "import pandas as pd\n",
    "from sklearn.impute import SimpleImputer\n",
    "\n",
    "missing_percentages = df_copy.isnull().mean() * 100\n",
    "\n",
    "columns_to_drop = missing_percentages[missing_percentages > 85].index\n",
    "df_dropped = df_copy.drop(columns_to_drop, axis=1)\n",
    "\n",
    "columns_to_impute = missing_percentages[missing_percentages <= 85].index\n",
    "imputer = SimpleImputer(strategy='mean')\n",
    "\n",
    "df_imputed = pd.DataFrame(imputer.fit_transform(df_dropped[columns_to_impute]), columns=columns_to_impute)\n",
    "\n",
    "# Combine dropped columns and imputed columns\n",
    "df_processed = pd.concat([df_dropped.drop(columns_to_impute, axis=1), df_imputed], axis=1)\n",
    "df_processed.shape"
   ]
  },
  {
   "cell_type": "code",
   "execution_count": 21,
   "metadata": {
    "colab": {
     "base_uri": "https://localhost:8080/"
    },
    "id": "2RyqPKvS6apH",
    "outputId": "78127833-44cf-4bc1-9224-436c16ab384c"
   },
   "outputs": [
    {
     "data": {
      "text/plain": [
       "((53029, 60), (22728, 60))"
      ]
     },
     "execution_count": 21,
     "metadata": {},
     "output_type": "execute_result"
    }
   ],
   "source": [
    "train = df_processed.drop('site_eui', axis = 1)\n",
    "labels = df_processed['site_eui']\n",
    "\n",
    "X_train, X_test, y_train, y_test = train_test_split(train,labels, test_size = 0.3, random_state = 42)\n",
    "X_train.shape, X_test.shape"
   ]
  },
  {
   "cell_type": "code",
   "execution_count": 22,
   "metadata": {
    "colab": {
     "base_uri": "https://localhost:8080/"
    },
    "id": "Bprv-mbz3ebL",
    "outputId": "87c93108-dd62-4075-ed08-ce9c80061e1b"
   },
   "outputs": [
    {
     "name": "stdout",
     "output_type": "stream",
     "text": [
      "Accuracy: 0.3022101654191087\n"
     ]
    }
   ],
   "source": [
    "from sklearn.ensemble import RandomForestRegressor\n",
    "from sklearn.metrics import r2_score\n",
    "\n",
    "\n",
    "regressor = RandomForestRegressor()\n",
    "regressor.fit(X_train, y_train)\n",
    "y_pred = regressor.predict(X_test)\n",
    "\n",
    "accuracy = r2_score(y_test, y_pred)\n",
    "\n",
    "print(\"Accuracy:\", accuracy)"
   ]
  },
  {
   "cell_type": "code",
   "execution_count": 23,
   "metadata": {
    "colab": {
     "base_uri": "https://localhost:8080/",
     "height": 757
    },
    "id": "P-_ZEFUX-ZOS",
    "outputId": "6e2d99c0-6247-43ab-b25c-4544fe1e9588"
   },
   "outputs": [
    {
     "data": {
      "application/vnd.jupyter.widget-view+json": {
       "model_id": "eb171db50eb24303be293a832b95d024",
       "version_major": 2,
       "version_minor": 0
      },
      "text/plain": [
       "VBox(children=(HTML(value='<h4><b>Model Info</b></h4>'), HTML(value='<p>Summarize given model parameters. <a h…"
      ]
     },
     "metadata": {},
     "output_type": "display_data"
    }
   ],
   "source": [
    "from deepchecks.tabular.checks import ModelInfo\n",
    "\n",
    "ModelInfo().run(regressor)"
   ]
  },
  {
   "cell_type": "code",
   "execution_count": 24,
   "metadata": {
    "id": "udnj-W25_XuC"
   },
   "outputs": [],
   "source": [
    "from deepchecks.tabular import Dataset\n",
    "\n",
    "train_ds = Dataset(X_train, label=y_train, cat_features=[])\n",
    "test_ds = Dataset(X_test, label=y_test, cat_features=[])"
   ]
  },
  {
   "cell_type": "code",
   "execution_count": 25,
   "metadata": {
    "colab": {
     "base_uri": "https://localhost:8080/",
     "height": 17
    },
    "id": "KGGLw3y9_ngK",
    "outputId": "3384a78f-7598-4990-8e4d-ba86199ce913"
   },
   "outputs": [
    {
     "data": {
      "text/html": [
       "\n",
       "    <style>\n",
       "        progress {\n",
       "            -webkit-appearance: none;\n",
       "            border: none;\n",
       "            border-radius: 3px;\n",
       "            width: 300px;\n",
       "            height: 20px;\n",
       "            vertical-align: middle;\n",
       "            margin-right: 10px;\n",
       "            background-color: aliceblue;\n",
       "        }\n",
       "        progress::-webkit-progress-bar {\n",
       "            border-radius: 3px;\n",
       "            background-color: aliceblue;\n",
       "        }\n",
       "        progress::-webkit-progress-value {\n",
       "            background-color: #9d60fb;\n",
       "        }\n",
       "        progress::-moz-progress-bar {\n",
       "            background-color: #9d60fb;\n",
       "        }\n",
       "    </style>\n",
       "    "
      ]
     },
     "metadata": {},
     "output_type": "display_data"
    },
    {
     "data": {
      "text/html": []
     },
     "metadata": {},
     "output_type": "display_data"
    },
    {
     "data": {
      "application/vnd.jupyter.widget-view+json": {
       "model_id": "ce06ad37c397442497632fe8209e5ab8",
       "version_major": 2,
       "version_minor": 0
      },
      "text/plain": [
       "Accordion(children=(VBox(children=(HTML(value='\\n<h1 id=\"summary_RTRXPWF2XJM3O9ZY2UGRQYT3Y\">Model Evaluation S…"
      ]
     },
     "metadata": {},
     "output_type": "display_data"
    }
   ],
   "source": [
    "from deepchecks.tabular.suites import model_evaluation\n",
    "\n",
    "evaluation_suite = model_evaluation()\n",
    "suite_result = evaluation_suite.run(train_ds, test_ds, regressor)\n",
    "suite_result.show()"
   ]
  },
  {
   "cell_type": "code",
   "execution_count": null,
   "metadata": {},
   "outputs": [],
   "source": []
  }
 ],
 "metadata": {
  "colab": {
   "provenance": []
  },
  "kernelspec": {
   "display_name": "Python 3 (ipykernel)",
   "language": "python",
   "name": "python3"
  },
  "language_info": {
   "codemirror_mode": {
    "name": "ipython",
    "version": 3
   },
   "file_extension": ".py",
   "mimetype": "text/x-python",
   "name": "python",
   "nbconvert_exporter": "python",
   "pygments_lexer": "ipython3",
   "version": "3.10.9"
  }
 },
 "nbformat": 4,
 "nbformat_minor": 1
}
